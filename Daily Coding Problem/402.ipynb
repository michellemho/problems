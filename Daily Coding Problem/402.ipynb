{
 "cells": [
  {
   "cell_type": "markdown",
   "metadata": {},
   "source": [
    "# Problem 402\n",
    "\n",
    "This problem was asked by Twitter.\n",
    "\n",
    "A strobogrammatic number is a positive number that appears the same after being rotated 180 degrees. For example, 16891 is strobogrammatic.\n",
    "\n",
    "Create a program that finds all strobogrammatic numbers with N digits.\n",
    "\n"
   ]
  },
  {
   "cell_type": "code",
   "execution_count": 19,
   "metadata": {},
   "outputs": [],
   "source": [
    "strobo_digits = [1, 6, 8, 9, 0]\n",
    "strobo_digits = {\n",
    "1:1,\n",
    "6:9,\n",
    "8:8,\n",
    "9,\n",
    "}\n",
    "\n",
    "# are 2 and 5 strobogrammatic?"
   ]
  },
  {
   "cell_type": "code",
   "execution_count": 67,
   "metadata": {},
   "outputs": [],
   "source": [
    "test = 1\n",
    "expected = 5\n",
    "\n",
    "test2 = 2\n",
    "#11, 69, 88, 96\n",
    "expected2 = 4"
   ]
  },
  {
   "cell_type": "code",
   "execution_count": 63,
   "metadata": {},
   "outputs": [],
   "source": [
    "def strobogrammatic_n(n):\n",
    "    '''\n",
    "    Returns all strobogrammatic numbers with n digits\n",
    "    '''\n",
    "    results = []\n",
    "    for i in range(10**(n-1), 10**n):\n",
    "        if is_strobo(i):\n",
    "            results.append(i)\n",
    "            \n",
    "    return results"
   ]
  },
  {
   "cell_type": "code",
   "execution_count": 64,
   "metadata": {},
   "outputs": [],
   "source": [
    "def is_strobo(num):\n",
    "    string_num = str(num)\n",
    "        \n",
    "    # First reverse the number\n",
    "    reverse_num = string_num[::-1]\n",
    "    \n",
    "    # Then \"flip\" digits\n",
    "    strobify = ''\n",
    "    for i,digit in enumerate(reverse_num):\n",
    "#         print(digit)\n",
    "        # immediately return False if any non-strobifyable digits are there\n",
    "        if digit in ['2','3','4','5','7']:\n",
    "            return False\n",
    "        if digit == '6':\n",
    "            strobify += '9'\n",
    "        elif digit == '9':\n",
    "            strobify += '6'\n",
    "        else:\n",
    "            strobify += digit    \n",
    "    \n",
    "#     print(strobify, string_num)\n",
    "\n",
    "    if strobify == string_num:\n",
    "#         print(strobify, string_num)\n",
    "        return True\n",
    "    else:\n",
    "        return False"
   ]
  },
  {
   "cell_type": "code",
   "execution_count": 69,
   "metadata": {},
   "outputs": [
    {
     "data": {
      "text/plain": [
       "[1001,\n",
       " 1111,\n",
       " 1691,\n",
       " 1881,\n",
       " 1961,\n",
       " 6009,\n",
       " 6119,\n",
       " 6699,\n",
       " 6889,\n",
       " 6969,\n",
       " 8008,\n",
       " 8118,\n",
       " 8698,\n",
       " 8888,\n",
       " 8968,\n",
       " 9006,\n",
       " 9116,\n",
       " 9696,\n",
       " 9886,\n",
       " 9966]"
      ]
     },
     "execution_count": 69,
     "metadata": {},
     "output_type": "execute_result"
    }
   ],
   "source": [
    "strobogrammatic_n(4)"
   ]
  },
  {
   "cell_type": "code",
   "execution_count": 32,
   "metadata": {},
   "outputs": [],
   "source": [
    "string_num += '3'"
   ]
  },
  {
   "cell_type": "code",
   "execution_count": 33,
   "metadata": {},
   "outputs": [
    {
     "data": {
      "text/plain": [
       "'168493'"
      ]
     },
     "execution_count": 33,
     "metadata": {},
     "output_type": "execute_result"
    }
   ],
   "source": [
    "string_num"
   ]
  },
  {
   "cell_type": "code",
   "execution_count": 35,
   "metadata": {},
   "outputs": [
    {
     "data": {
      "text/plain": [
       "'168493'"
      ]
     },
     "execution_count": 35,
     "metadata": {},
     "output_type": "execute_result"
    }
   ],
   "source": [
    "string_num"
   ]
  },
  {
   "cell_type": "code",
   "execution_count": 41,
   "metadata": {},
   "outputs": [
    {
     "data": {
      "text/plain": [
       "False"
      ]
     },
     "execution_count": 41,
     "metadata": {},
     "output_type": "execute_result"
    }
   ],
   "source": [
    "any(string_num) not in strobo_digits"
   ]
  },
  {
   "cell_type": "code",
   "execution_count": null,
   "metadata": {},
   "outputs": [],
   "source": []
  }
 ],
 "metadata": {
  "kernelspec": {
   "display_name": "Python 3",
   "language": "python",
   "name": "python3"
  },
  "language_info": {
   "codemirror_mode": {
    "name": "ipython",
    "version": 3
   },
   "file_extension": ".py",
   "mimetype": "text/x-python",
   "name": "python",
   "nbconvert_exporter": "python",
   "pygments_lexer": "ipython3",
   "version": "3.8.3"
  }
 },
 "nbformat": 4,
 "nbformat_minor": 4
}
